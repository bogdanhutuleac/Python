{
 "cells": [
  {
   "cell_type": "markdown",
   "metadata": {},
   "source": [
    "# Use of class\n",
    " I can use class and polymorphism with method like .open to share in between actions"
   ]
  },
  {
   "cell_type": "code",
   "execution_count": 1,
   "metadata": {},
   "outputs": [],
   "source": [
    "class Folder ():\n",
    "    def __init__(self, file, folder):\n",
    "        self.file = file\n",
    "        self.folder = folder"
   ]
  },
  {
   "cell_type": "markdown",
   "metadata": {},
   "source": [
    "we have lines that starts with $ and these are comands\n",
    "<br>\n",
    "we have lines that starts with dir and those are directory/folders\n",
    "<br>\n",
    "we have lins that start with a number and those are files size and"
   ]
  },
  {
   "cell_type": "code",
   "execution_count": 2,
   "metadata": {},
   "outputs": [
    {
     "name": "stdout",
     "output_type": "stream",
     "text": [
      "['$ cd /', '$ ls', 'dir a', '14848514 b.txt', '8504156 c.dat', 'dir d', '$ cd a', '$ ls', 'dir e', '29116 f', '2557 g', '62596 h.lst', '$ cd e', '$ ls', '584 i', '$ cd ..', '$ cd ..', '$ cd d', '$ ls', '4060174 j', '8033020 d.log', '5626152 d.ext', '7214296 k']\n"
     ]
    }
   ],
   "source": [
    "with open (\"C:\\\\Users\\\\Bogdan Madalina\\\\Desktop\\\\Python\\\\Advent\\\\day7\\\\test_data.txt\") as input_data:\n",
    "# with open (\"C:\\\\Users\\\\Bogdan Madalina\\\\Desktop\\\\Python\\\\Advent\\\\day7\\\\input_data.txt\") as input_data:\n",
    "    line_of_interest = []\n",
    "    for line in input_data:\n",
    "        new_line = (line.rstrip(\"\\n\"))\n",
    "        line_of_interest.append(new_line)\n",
    "\n",
    "print(line_of_interest)"
   ]
  },
  {
   "cell_type": "code",
   "execution_count": 3,
   "metadata": {},
   "outputs": [
    {
     "name": "stdout",
     "output_type": "stream",
     "text": [
      "[['$', 'cd', '/'], ['$', 'ls'], ['dir', 'a'], ['14848514', 'b.txt'], ['8504156', 'c.dat'], ['dir', 'd'], ['$', 'cd', 'a'], ['$', 'ls'], ['dir', 'e'], ['29116', 'f'], ['2557', 'g'], ['62596', 'h.lst'], ['$', 'cd', 'e'], ['$', 'ls'], ['584', 'i'], ['$', 'cd', '..'], ['$', 'cd', '..'], ['$', 'cd', 'd'], ['$', 'ls'], ['4060174', 'j'], ['8033020', 'd.log'], ['5626152', 'd.ext'], ['7214296', 'k']]\n"
     ]
    }
   ],
   "source": [
    "mylist = []\n",
    "for element in line_of_interest:\n",
    "    mylist.append(element.split())\n",
    "\n",
    "print(mylist)\n",
    "\n",
    "        \n",
    "    "
   ]
  },
  {
   "cell_type": "code",
   "execution_count": 2,
   "metadata": {},
   "outputs": [
    {
     "ename": "IndentationError",
     "evalue": "expected an indented block (3756348198.py, line 2)",
     "output_type": "error",
     "traceback": [
      "\u001b[1;36m  Cell \u001b[1;32mIn[2], line 2\u001b[1;36m\u001b[0m\n\u001b[1;33m    if mylist[1] == \"cd\":\u001b[0m\n\u001b[1;37m                         ^\u001b[0m\n\u001b[1;31mIndentationError\u001b[0m\u001b[1;31m:\u001b[0m expected an indented block\n"
     ]
    }
   ],
   "source": [
    "if mylist[0] == \"$\":\n",
    "    if mylist[1] == \"cd\":\n",
    "      "
   ]
  },
  {
   "cell_type": "code",
   "execution_count": null,
   "metadata": {},
   "outputs": [],
   "source": []
  }
 ],
 "metadata": {
  "kernelspec": {
   "display_name": "Python 3",
   "language": "python",
   "name": "python3"
  },
  "language_info": {
   "codemirror_mode": {
    "name": "ipython",
    "version": 3
   },
   "file_extension": ".py",
   "mimetype": "text/x-python",
   "name": "python",
   "nbconvert_exporter": "python",
   "pygments_lexer": "ipython3",
   "version": "3.9.10"
  }
 },
 "nbformat": 4,
 "nbformat_minor": 4
}

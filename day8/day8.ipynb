{
 "cells": [
  {
   "cell_type": "code",
   "execution_count": 1,
   "metadata": {},
   "outputs": [],
   "source": [
    "import re\n",
    "\n",
    "with open (\"C:\\\\Users\\\\Bogdan Madalina\\\\Desktop\\\\Python\\\\Advent\\\\day8\\\\test_data.txt\") as input_data:\n",
    "# with open (\"C:\\\\Users\\\\Bogdan Madalina\\\\Desktop\\\\Python\\\\Advent\\\\day8\\\\input_data.txt\") as input_data:\n",
    "    line_of_interest = []\n",
    "    for line in input_data:\n",
    "        new_line = (line.rstrip(\"\\n\"))\n",
    "        individual_num = []        \n",
    "        for num in new_line:\n",
    "            individual_num.append(int(num))\n",
    "        line_of_interest.append(individual_num)"
   ]
  },
  {
   "cell_type": "code",
   "execution_count": 2,
   "metadata": {},
   "outputs": [
    {
     "name": "stdout",
     "output_type": "stream",
     "text": [
      "[[3, 0, 3, 7, 3], [2, 5, 5, 1, 2], [6, 5, 3, 3, 2], [3, 3, 5, 4, 9], [3, 5, 3, 9, 0]]\n"
     ]
    }
   ],
   "source": [
    "print(line_of_interest)"
   ]
  },
  {
   "cell_type": "code",
   "execution_count": 11,
   "metadata": {},
   "outputs": [
    {
     "name": "stdout",
     "output_type": "stream",
     "text": [
      "3\n",
      "0\n",
      "3\n",
      "7\n",
      "3\n",
      "the total is:5\n",
      "2\n",
      "5\n",
      "5\n",
      "1\n",
      "2\n",
      "the total is:10\n",
      "6\n",
      "5\n",
      "3\n",
      "3\n",
      "2\n",
      "the total is:15\n",
      "3\n",
      "3\n",
      "5\n",
      "4\n",
      "9\n",
      "the total is:20\n",
      "3\n",
      "5\n",
      "3\n",
      "9\n",
      "0\n",
      "the total is:25\n"
     ]
    }
   ],
   "source": [
    "total = 0\n",
    "for lists in range(len(line_of_interest)):\n",
    "    for num in range(len(line_of_interest[num])):\n",
    "        if (lists or num in [0,4])\n",
    "#         print(line_of_interest[lists][num])\n",
    "        total +=1\n",
    "    print(f\"the total is:{total}\")"
   ]
  },
  {
   "cell_type": "code",
   "execution_count": 9,
   "metadata": {},
   "outputs": [
    {
     "name": "stdout",
     "output_type": "stream",
     "text": [
      "[3, 0, 3, 7, 3]\n",
      "[2, 5, 5, 1, 2]\n",
      "[6, 5, 3, 3, 2]\n",
      "[3, 3, 5, 4, 9]\n",
      "[3, 5, 3, 9, 0]\n"
     ]
    }
   ],
   "source": [
    "for num in range(len(line_of_interest)):\n",
    "    print(line_of_interest[num])\n",
    "#     print (index,\"\\n\")"
   ]
  },
  {
   "cell_type": "code",
   "execution_count": 26,
   "metadata": {},
   "outputs": [
    {
     "name": "stdout",
     "output_type": "stream",
     "text": [
      "It is\n"
     ]
    }
   ],
   "source": [
    "my_list = [0,1,2,3,4,5]\n",
    "x=4\n",
    "y=0\n",
    "if y in my_list:\n",
    "    print(\"It is\")"
   ]
  },
  {
   "cell_type": "code",
   "execution_count": null,
   "metadata": {},
   "outputs": [],
   "source": []
  }
 ],
 "metadata": {
  "kernelspec": {
   "display_name": "Python 3",
   "language": "python",
   "name": "python3"
  },
  "language_info": {
   "codemirror_mode": {
    "name": "ipython",
    "version": 3
   },
   "file_extension": ".py",
   "mimetype": "text/x-python",
   "name": "python",
   "nbconvert_exporter": "python",
   "pygments_lexer": "ipython3",
   "version": "3.8.5"
  }
 },
 "nbformat": 4,
 "nbformat_minor": 4
}

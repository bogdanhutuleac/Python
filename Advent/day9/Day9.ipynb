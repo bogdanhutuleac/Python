{
 "cells": [
  {
   "cell_type": "code",
   "execution_count": 3,
   "metadata": {},
   "outputs": [
    {
     "name": "stdout",
     "output_type": "stream",
     "text": [
      "[['R', '4'], ['U', '4'], ['L', '3'], ['D', '1'], ['R', '4'], ['D', '1'], ['L', '5'], ['R', '2']]\n"
     ]
    }
   ],
   "source": [
    "import re\n",
    "\n",
    "with open (\"C:\\\\Users\\\\Bogdan Madalina\\\\Desktop\\\\Python\\\\Advent\\\\day9\\\\test_data.txt\") as input_data:\n",
    "# with open (\"C:\\\\Users\\\\Bogdan Madalina\\\\Desktop\\\\Python\\\\Advent\\\\day9\\\\input_data.txt\") as input_data:\n",
    "    input_list = []\n",
    "    for line in input_data:\n",
    "        new_line = (line.rstrip(\"\\n\"))\n",
    "        input_list.append(new_line.split())\n",
    "print(input_list)"
   ]
  },
  {
   "cell_type": "code",
   "execution_count": 38,
   "metadata": {},
   "outputs": [
    {
     "name": "stdout",
     "output_type": "stream",
     "text": [
      "[['.', '.', '.', '.', '.', '.'], ['.', '.', '.', '.', '.', '.'], ['.', '.', '.', '.', '.', '.'], ['.', '.', '.', '.', '.', '.'], ['.', '.', '.', '.', '.', '.']]\n",
      "\n",
      "\n"
     ]
    }
   ],
   "source": [
    " \n",
    "w, h = 6, 5\n",
    "grid = [[\".\" for x in range(w)] for y in range(h)] \n",
    "        \n",
    "print(grid)\n",
    "print(\"\\n\")\n",
    "def print_grid(grid):\n",
    "    for i in range(len(grid)):\n",
    "        print(\" \".join(grid[i]))\n",
    "\n",
    "        "
   ]
  },
  {
   "cell_type": "code",
   "execution_count": 22,
   "metadata": {},
   "outputs": [
    {
     "name": "stdout",
     "output_type": "stream",
     "text": [
      ". . . . . .\n",
      ". . . . . .\n",
      ". . . . . .\n",
      ". . . . . .\n",
      "S T H . . .\n"
     ]
    }
   ],
   "source": [
    "grid[4][0] = \"S\"\n",
    "grid[4][1] = \"T\"\n",
    "grid[4][2] = \"H\"\n",
    "print_grid(grid)"
   ]
  },
  {
   "cell_type": "code",
   "execution_count": null,
   "metadata": {},
   "outputs": [],
   "source": [
    "def direction(letter):\n",
    "    if letter == \"R\":\n",
    "        # Go right\n",
    "        # increase the second index value  \n",
    "        return \n",
    "    if letter == \"L\":\n",
    "        # Go left\n",
    "        # decrease the second index value\n",
    "    if letter == \"D\":\n",
    "        # Go Down\n",
    "        # increse the first index value\n",
    "    if letter == \"U\":\n",
    "        # Go up\n",
    "        #decrease the first index value\n",
    "        "
   ]
  },
  {
   "cell_type": "code",
   "execution_count": null,
   "metadata": {},
   "outputs": [],
   "source": [
    "# for every line in input\n",
    "def move_to (grid, direction, unit):\n",
    "    # direction is input_list[0][0] which is \"R\" in this situation\n",
    "    # will get direction(direction)\n",
    "    pass"
   ]
  },
  {
   "cell_type": "code",
   "execution_count": 23,
   "metadata": {},
   "outputs": [],
   "source": [
    "head = \"H\"\n",
    "tail = \"T\"\n",
    "mark = \"*\""
   ]
  },
  {
   "cell_type": "code",
   "execution_count": 40,
   "metadata": {},
   "outputs": [
    {
     "name": "stdout",
     "output_type": "stream",
     "text": [
      ". . . . H .\n",
      ". . . . * .\n",
      ". . . . * .\n",
      ". . . . * .\n",
      "* * * * H .\n"
     ]
    }
   ],
   "source": [
    "#going right\n",
    "for cell in range(4):\n",
    "    grid[4][cell+1] = head\n",
    "    grid[4][cell] = mark\n",
    "print_grid(grid) "
   ]
  },
  {
   "cell_type": "code",
   "execution_count": 41,
   "metadata": {},
   "outputs": [
    {
     "name": "stdout",
     "output_type": "stream",
     "text": [
      ". . . . H .\n",
      ". . . . * .\n",
      ". . . . * .\n",
      ". . . . * .\n",
      "* * * * H .\n"
     ]
    }
   ],
   "source": [
    "# going up\n",
    "range_num = 4\n",
    "for cell in range(range_num):\n",
    "    grid[range_num-cell - 1][4] = head\n",
    "    if range_num - cell + 1 >= 0 and range_num - cell + 1 <= 4:\n",
    "        grid[range_num-cell][4] = mark\n",
    "print_grid(grid)"
   ]
  },
  {
   "cell_type": "code",
   "execution_count": null,
   "metadata": {},
   "outputs": [],
   "source": [
    "# going left\n",
    "range_num = 3\n",
    "previous_head = 0\n",
    "for cell in range(range_num):\n",
    "    grid[0][range_num-cell] = head\n",
    "    grid[0][cell] = mark\n",
    "print_grid(grid) "
   ]
  },
  {
   "cell_type": "code",
   "execution_count": 1,
   "metadata": {},
   "outputs": [
    {
     "name": "stdout",
     "output_type": "stream",
     "text": [
      "The tail of the rope visits 21 positions at least once.\n"
     ]
    }
   ],
   "source": [
    "def simulate_rope(motions):\n",
    "    positions = set()  # Set to store visited positions\n",
    "    x, y = 0, 0  # Initial position of head and tail\n",
    "\n",
    "    for motion in motions:\n",
    "        direction = motion[0]\n",
    "        steps = int(motion[1:])\n",
    "\n",
    "        for _ in range(steps):\n",
    "            if direction == 'R':\n",
    "                x += 1\n",
    "            elif direction == 'L':\n",
    "                x -= 1\n",
    "            elif direction == 'U':\n",
    "                y -= 1\n",
    "            elif direction == 'D':\n",
    "                y += 1\n",
    "\n",
    "            # Update tail position if necessary\n",
    "            if abs(x - y) == 2:\n",
    "                tail_x = x if x == y else x + 1 if x > y else x - 1\n",
    "                tail_y = y if x == y else y + 1 if y > x else y - 1\n",
    "                positions.add((tail_x, tail_y))\n",
    "\n",
    "            positions.add((x, y))  # Add current position to visited positions\n",
    "\n",
    "    return len(positions)  # Return the count of unique visited positions\n",
    "\n",
    "\n",
    "# Example input\n",
    "motions = [\n",
    "    'R4',\n",
    "    'U4',\n",
    "    'L3',\n",
    "    'D1',\n",
    "    'R4',\n",
    "    'D1',\n",
    "    'L5',\n",
    "    'R2'\n",
    "]\n",
    "\n",
    "result = simulate_rope(motions)\n",
    "print(f\"The tail of the rope visits {result} positions at least once.\")\n"
   ]
  },
  {
   "cell_type": "code",
   "execution_count": 6,
   "metadata": {},
   "outputs": [
    {
     "name": "stdout",
     "output_type": "stream",
     "text": [
      "{(4, 0), (3, -1), (2, 0), (3, 0), (1, 0)}\n",
      "{(4, 0), (3, -1), (4, -3), (4, -2), (2, 0), (4, -4), (3, 0), (4, -1), (1, 0)}\n",
      "{(1, -4), (4, 0), (3, -1), (4, -3), (4, -2), (2, 0), (4, -4), (3, 0), (2, -4), (4, -1), (1, 0), (3, -4)}\n",
      "{(1, -4), (4, 0), (3, -1), (4, -3), (4, -2), (2, 0), (4, -4), (3, 0), (1, -3), (2, -4), (4, -1), (1, 0), (3, -4)}\n",
      "{(1, -4), (4, 0), (3, -1), (4, -3), (2, -3), (4, -2), (2, 0), (4, -4), (3, -3), (3, 0), (5, -3), (1, -3), (2, -4), (4, -1), (1, 0), (3, -4)}\n",
      "{(1, -4), (4, 0), (3, -1), (4, -3), (2, -3), (5, -2), (4, -2), (2, 0), (4, -4), (3, -3), (3, 0), (5, -3), (1, -3), (2, -4), (4, -1), (1, 0), (3, -4)}\n",
      "{(4, 0), (3, -1), (3, -2), (4, -3), (5, -2), (1, -3), (2, -4), (1, 0), (3, -3), (4, -4), (3, 0), (5, -3), (0, -2), (2, -2), (1, -4), (4, -2), (4, -1), (3, -4), (2, -3), (2, 0), (1, -2)}\n",
      "{(4, 0), (3, -1), (3, -2), (4, -3), (5, -2), (1, -3), (2, -4), (1, 0), (3, -3), (4, -4), (3, 0), (5, -3), (0, -2), (2, -2), (1, -4), (4, -2), (4, -1), (3, -4), (2, -3), (2, 0), (1, -2)}\n",
      "The tail of the rope visits 21 positions at least once.\n"
     ]
    }
   ],
   "source": [
    "def simulate_rope(motions):\n",
    "    positions = set()  # Set to store visited positions\n",
    "    x, y = 0, 0  # Initial position of head and tail\n",
    "\n",
    "    for motion in motions:\n",
    "        direction = motion[0]\n",
    "        steps = int(motion[1:])\n",
    "\n",
    "        for _ in range(steps):\n",
    "            if direction == 'R':\n",
    "                x += 1\n",
    "            elif direction == 'L':\n",
    "                x -= 1\n",
    "            elif direction == 'U':\n",
    "                y -= 1\n",
    "            elif direction == 'D':\n",
    "                y += 1\n",
    "\n",
    "            # Update tail position if necessary\n",
    "            if abs(x - y) == 2:\n",
    "                tail_x = x if x == y else x + 1 if x > y else x - 1\n",
    "                tail_y = y if x == y else y + 1 if y > x else y - 1\n",
    "                positions.add((tail_x, tail_y))\n",
    "\n",
    "            positions.add((x, y))  # Add current position to visited positions\n",
    "        \n",
    "        print(positions)\n",
    "\n",
    "    return len(positions)  # Return the count of unique visited positions\n",
    "\n",
    "# Example input\n",
    "motions = [\n",
    "    'R4',\n",
    "    'U4',\n",
    "    'L3',\n",
    "    'D1',\n",
    "    'R4',\n",
    "    'D1',\n",
    "    'L5',\n",
    "    'R2'\n",
    "]\n",
    "\n",
    "result = simulate_rope(motions)\n",
    "print(f\"The tail of the rope visits {result} positions at least once.\")\n"
   ]
  },
  {
   "cell_type": "code",
   "execution_count": null,
   "metadata": {},
   "outputs": [],
   "source": [
    "motions"
   ]
  }
 ],
 "metadata": {
  "kernelspec": {
   "display_name": "Python 3",
   "language": "python",
   "name": "python3"
  },
  "language_info": {
   "codemirror_mode": {
    "name": "ipython",
    "version": 3
   },
   "file_extension": ".py",
   "mimetype": "text/x-python",
   "name": "python",
   "nbconvert_exporter": "python",
   "pygments_lexer": "ipython3",
   "version": "3.8.5"
  }
 },
 "nbformat": 4,
 "nbformat_minor": 4
}
